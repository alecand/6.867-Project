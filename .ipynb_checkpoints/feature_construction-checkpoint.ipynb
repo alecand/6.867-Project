{
 "cells": [
  {
   "cell_type": "code",
   "execution_count": 7,
   "metadata": {
    "collapsed": false
   },
   "outputs": [],
   "source": [
    "import numpy as np\n",
    "import integral_image_transform\n",
    "import sklearn.datasets\n",
    "\n",
    "def get_faces():\n",
    "    return sklearn.datasets.fetch_olivetti_faces()\n",
    "\n",
    "images = get_faces()['images']\n",
    "labels = get_faces()['target']"
   ]
  },
  {
   "cell_type": "code",
   "execution_count": 10,
   "metadata": {
    "collapsed": true
   },
   "outputs": [],
   "source": [
    "def integral_transform(img, square = True, ravelled = False, dims = None):\n",
    "    if square and ravelled:\n",
    "        side_len = int(len(img) ** .5)\n",
    "        img_reshaped = np.reshape(img, (side_len, side_len))\n",
    "        ans = np.zeros((side_len, side_len))\n",
    "        for i in range(2*side_len - 1):\n",
    "            for j in range(i + 1):\n",
    "                if j < side_len and i - j < side_len:\n",
    "                    if i == 0:\n",
    "                        ans[0][0] = img_reshaped[0][0]\n",
    "                    elif j == 0:\n",
    "                        ans[j][i-j] = ans[j][i-j-1] + img_reshaped[j][i-j]\n",
    "                    elif i == j:\n",
    "                        ans[j][i-j] = ans[j-1][i-j] + img_reshaped[j][i-j]\n",
    "                    else:\n",
    "                        ans[j][i-j] = ans[j][i-j-1] + ans[j-1][i-j] - ans[j-1][i-j-1] + img_reshaped[j][i-j]\n",
    "    if square and not ravelled:\n",
    "        side_len = int(len(img))\n",
    "        ans = np.zeros((side_len, side_len))\n",
    "        for i in range(2*side_len - 1):\n",
    "            for j in range(i + 1):\n",
    "                if j < side_len and i - j < side_len:\n",
    "                    if i == 0:\n",
    "                        ans[0][0] = img[0][0]\n",
    "                    elif j == 0:\n",
    "                        ans[j][i-j] = ans[j][i-j-1] + img[j][i-j]\n",
    "                    elif i == j:\n",
    "                        ans[j][i-j] = ans[j-1][i-j] + img[j][i-j]\n",
    "                    else:\n",
    "                        ans[j][i-j] = ans[j][i-j-1] + ans[j-1][i-j] - ans[j-1][i-j-1] + img[j][i-j]\n",
    "\n",
    "    return ans\n",
    "\n",
    "\n"
   ]
  },
  {
   "cell_type": "code",
   "execution_count": 12,
   "metadata": {
    "collapsed": false
   },
   "outputs": [
    {
     "name": "stdout",
     "output_type": "stream",
     "text": [
      "(64, 64)\n"
     ]
    }
   ],
   "source": [
    "print integral_transform(images[0]).shape"
   ]
  },
  {
   "cell_type": "code",
   "execution_count": null,
   "metadata": {
    "collapsed": true
   },
   "outputs": [],
   "source": [
    "def compute_two_rectangle_features(image):\n",
    "    # Calculating at every point and scale for now\n",
    "    length,width = image.shape\n",
    "    \n",
    "    \n",
    "\n",
    "\n",
    "compute_two_rectangle_features(images[0])\n",
    "    "
   ]
  },
  {
   "cell_type": "code",
   "execution_count": 8,
   "metadata": {
    "collapsed": false
   },
   "outputs": [
    {
     "name": "stdout",
     "output_type": "stream",
     "text": [
      "(64, 64)\n"
     ]
    }
   ],
   "source": [
    "print images[0].shape"
   ]
  }
 ],
 "metadata": {
  "kernelspec": {
   "display_name": "Python 2",
   "language": "python",
   "name": "python2"
  },
  "language_info": {
   "codemirror_mode": {
    "name": "ipython",
    "version": 2
   },
   "file_extension": ".py",
   "mimetype": "text/x-python",
   "name": "python",
   "nbconvert_exporter": "python",
   "pygments_lexer": "ipython2",
   "version": "2.7.9"
  }
 },
 "nbformat": 4,
 "nbformat_minor": 1
}
